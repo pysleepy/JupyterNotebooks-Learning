{
 "cells": [
  {
   "cell_type": "markdown",
   "metadata": {},
   "source": [
    "# NLP FROM SCRATCH: GENERATING NAMES WITH A CHARACTER-LEVEL RNN\n",
    "\n",
    "This is our second of three tutorials on “NLP From Scratch”. In the *first tutorial <char_rnn_classification_tutorial>* we used a RNN to classify names into their language of origin. This time we’ll turn around and generate names from languages.\n",
    "\n",
    "```\n",
    "> python sample.py Russian RUS\n",
    "Rovakov\n",
    "Uantov\n",
    "Shavakov\n",
    "\n",
    "> python sample.py German GER\n",
    "Gerren\n",
    "Ereng\n",
    "Rosher\n",
    "\n",
    "> python sample.py Spanish SPA\n",
    "Salla\n",
    "Parer\n",
    "Allan\n",
    "\n",
    "> python sample.py Chinese CHI\n",
    "Chan\n",
    "Hang\n",
    "Iun\n",
    "```\n",
    "\n",
    "We are still hand-crafting a small RNN with a few linear layers. The big difference is instead of predicting a category after reading in all the letters of a name, we input a category and output one letter at a time. Recurrently predicting characters to form language (this could also be done with words or other higher order constructs) is often referred to as a “language model”.\n",
    "\n",
    "**Recommended Reading:**\n",
    "\n",
    "I assume you have at least installed PyTorch, know Python, and understand Tensors:\n",
    "* [https://pytorch.org/](https://pytorch.org/) For installation instructions\n",
    "* [Deep Learning with PyTorch: A 60 Minute Blitz](https://pytorch.org/tutorials/beginner/deep_learning_60min_blitz.html) to get started with PyTorch in general\n",
    "* [Learning PyTorch with Examples](https://pytorch.org/tutorials/beginner/pytorch_with_examples.html) for a wide and deep overview\n",
    "* [PyTorch for Former Torch Users](https://pytorch.org/tutorials/beginner/former_torchies_tutorial.html) if you are former Lua Torch user\n",
    "\n",
    "It would also be useful to know about RNNs and how they work:\n",
    "* [The Unreasonable Effectiveness of Recurrent Neural Networks](https://karpathy.github.io/2015/05/21/rnn-effectiveness/) shows a bunch of real life examples\n",
    "* [Understanding LSTM Networks](https://colah.github.io/posts/2015-08-Understanding-LSTMs/) is about LSTMs specifically but also informative about RNNs in general\n",
    "\n",
    "I also suggest the previous tutorial, [NLP From Scratch: Classifying Names with a Character-Level RNN](https://pytorch.org/tutorials/intermediate/char_rnn_classification_tutorial.html)"
   ]
  },
  {
   "cell_type": "markdown",
   "metadata": {},
   "source": [
    "## Preparing the Data\n",
    "\n",
    "**Note**\n",
    "Download the data from [here](https://download.pytorch.org/tutorial/data.zip) and extract it to the current directory.\n",
    "\n",
    "See the last tutorial for more detail of this process. In short, there are a bunch of plain text files ``data/names/[Language].txt`` with a name per line. We split lines into an array, convert Unicode to ASCII, and end up with a dictionary ``{language: [names ...]}``."
   ]
  },
  {
   "cell_type": "code",
   "execution_count": 1,
   "metadata": {},
   "outputs": [
    {
     "name": "stdout",
     "output_type": "stream",
     "text": [
      "Archive:  data.zip\n",
      "   creating: data/\n",
      "  inflating: data/eng-fra.txt        \n",
      "   creating: data/names/\n",
      "  inflating: data/names/Arabic.txt   \n",
      "  inflating: data/names/Chinese.txt  \n",
      "  inflating: data/names/Czech.txt    \n",
      "  inflating: data/names/Dutch.txt    \n",
      "  inflating: data/names/English.txt  \n",
      "  inflating: data/names/French.txt   \n",
      "  inflating: data/names/German.txt   \n",
      "  inflating: data/names/Greek.txt    \n",
      "  inflating: data/names/Irish.txt    \n",
      "  inflating: data/names/Italian.txt  \n",
      "  inflating: data/names/Japanese.txt  \n",
      "  inflating: data/names/Korean.txt   \n",
      "  inflating: data/names/Polish.txt   \n",
      "  inflating: data/names/Portuguese.txt  \n",
      "  inflating: data/names/Russian.txt  \n",
      "  inflating: data/names/Scottish.txt  \n",
      "  inflating: data/names/Spanish.txt  \n",
      "  inflating: data/names/Vietnamese.txt  \n"
     ]
    },
    {
     "name": "stderr",
     "output_type": "stream",
     "text": [
      "--2020-07-06 16:14:31--  https://download.pytorch.org/tutorial/data.zip\n",
      "Resolving download.pytorch.org (download.pytorch.org)... 13.224.180.110, 13.224.180.39, 13.224.180.11, ...\n",
      "Connecting to download.pytorch.org (download.pytorch.org)|13.224.180.110|:443... connected.\n",
      "HTTP request sent, awaiting response... 200 OK\n",
      "Length: 2882130 (2.7M) [application/zip]\n",
      "Saving to: 'data.zip’\n",
      "\n",
      "     0K .......... .......... .......... .......... ..........  1% 69.4M 0s\n",
      "    50K .......... .......... .......... .......... ..........  3% 33.9M 0s\n",
      "   100K .......... .......... .......... .......... ..........  5% 11.6M 0s\n",
      "   150K .......... .......... .......... .......... ..........  7% 61.1M 0s\n",
      "   200K .......... .......... .......... .......... ..........  8% 77.6M 0s\n",
      "   250K .......... .......... .......... .......... .......... 10% 21.2M 0s\n",
      "   300K .......... .......... .......... .......... .......... 12% 54.1M 0s\n",
      "   350K .......... .......... .......... .......... .......... 14% 26.2M 0s\n",
      "   400K .......... .......... .......... .......... .......... 15% 17.3M 0s\n",
      "   450K .......... .......... .......... .......... .......... 17% 79.8M 0s\n",
      "   500K .......... .......... .......... .......... .......... 19% 19.1M 0s\n",
      "   550K .......... .......... .......... .......... .......... 21% 15.3M 0s\n",
      "   600K .......... .......... .......... .......... .......... 23% 92.1M 0s\n",
      "   650K .......... .......... .......... .......... .......... 24%  122M 0s\n",
      "   700K .......... .......... .......... .......... .......... 26% 75.6M 0s\n",
      "   750K .......... .......... .......... .......... .......... 28% 15.8M 0s\n",
      "   800K .......... .......... .......... .......... .......... 30% 45.2M 0s\n",
      "   850K .......... .......... .......... .......... .......... 31% 23.2M 0s\n",
      "   900K .......... .......... .......... .......... .......... 33%  104M 0s\n",
      "   950K .......... .......... .......... .......... .......... 35% 20.2M 0s\n",
      "  1000K .......... .......... .......... .......... .......... 37% 20.2M 0s\n",
      "  1050K .......... .......... .......... .......... .......... 39% 17.6M 0s\n",
      "  1100K .......... .......... .......... .......... .......... 40%  100M 0s\n",
      "  1150K .......... .......... .......... .......... .......... 42% 22.4M 0s\n",
      "  1200K .......... .......... .......... .......... .......... 44% 20.2M 0s\n",
      "  1250K .......... .......... .......... .......... .......... 46% 31.1M 0s\n",
      "  1300K .......... .......... .......... .......... .......... 47% 21.6M 0s\n",
      "  1350K .......... .......... .......... .......... .......... 49% 97.7M 0s\n",
      "  1400K .......... .......... .......... .......... .......... 51% 17.3M 0s\n",
      "  1450K .......... .......... .......... .......... .......... 53% 26.3M 0s\n",
      "  1500K .......... .......... .......... .......... .......... 55% 31.4M 0s\n",
      "  1550K .......... .......... .......... .......... .......... 56% 8.83M 0s\n",
      "  1600K .......... .......... .......... .......... .......... 58% 90.4M 0s\n",
      "  1650K .......... .......... .......... .......... .......... 60%  114M 0s\n",
      "  1700K .......... .......... .......... .......... .......... 62% 66.6M 0s\n",
      "  1750K .......... .......... .......... .......... .......... 63% 20.4M 0s\n",
      "  1800K .......... .......... .......... .......... .......... 65%  115M 0s\n",
      "  1850K .......... .......... .......... .......... .......... 67% 25.3M 0s\n",
      "  1900K .......... .......... .......... .......... .......... 69% 18.3M 0s\n",
      "  1950K .......... .......... .......... .......... .......... 71% 22.5M 0s\n",
      "  2000K .......... .......... .......... .......... .......... 72% 20.6M 0s\n",
      "  2050K .......... .......... .......... .......... .......... 74%  100M 0s\n",
      "  2100K .......... .......... .......... .......... .......... 76% 12.2M 0s\n",
      "  2150K .......... .......... .......... .......... .......... 78% 62.5M 0s\n",
      "  2200K .......... .......... .......... .......... .......... 79% 23.7M 0s\n",
      "  2250K .......... .......... .......... .......... .......... 81%  108M 0s\n",
      "  2300K .......... .......... .......... .......... .......... 83% 22.7M 0s\n",
      "  2350K .......... .......... .......... .......... .......... 85% 19.3M 0s\n",
      "  2400K .......... .......... .......... .......... .......... 87% 28.9M 0s\n",
      "  2450K .......... .......... .......... .......... .......... 88% 4.79M 0s\n",
      "  2500K .......... .......... .......... .......... .......... 90%  108M 0s\n",
      "  2550K .......... .......... .......... .......... .......... 92%  105M 0s\n",
      "  2600K .......... .......... .......... .......... .......... 94%  110M 0s\n",
      "  2650K .......... .......... .......... .......... .......... 95%  112M 0s\n",
      "  2700K .......... .......... .......... .......... .......... 97%  105M 0s\n",
      "  2750K .......... .......... .......... .......... .......... 99%  117M 0s\n",
      "  2800K .......... ....                                       100%  115M=0.1s\n",
      "\n",
      "2020-07-06 16:14:31 (27.5 MB/s) - 'data.zip’ saved [2882130/2882130]\n",
      "\n"
     ]
    }
   ],
   "source": [
    "%%bash\n",
    "\n",
    "rm -r data\n",
    "rm data.zip\n",
    "wget -c https://download.pytorch.org/tutorial/data.zip\n",
    "unzip data.zip"
   ]
  },
  {
   "cell_type": "code",
   "execution_count": 2,
   "metadata": {},
   "outputs": [
    {
     "name": "stdout",
     "output_type": "stream",
     "text": [
      "# categories: 18 ['Italian', 'Polish', 'Dutch', 'Greek', 'French', 'Japanese', 'Irish', 'Russian', 'English', 'Scottish', 'Portuguese', 'Czech', 'Vietnamese', 'Chinese', 'Korean', 'Spanish', 'German', 'Arabic']\n",
      "O'Neal\n"
     ]
    }
   ],
   "source": [
    "from __future__ import unicode_literals, print_function, division\n",
    "from io import open\n",
    "import glob\n",
    "import os\n",
    "import unicodedata\n",
    "import string\n",
    "\n",
    "all_letters = string.ascii_letters + \" .,;'-\"\n",
    "n_letters = len(all_letters) + 1 # Plus EOS marker\n",
    "\n",
    "def findFiles(path): return glob.glob(path)\n",
    "\n",
    "# Turn a Unicode string to plain ASCII, thanks to https://stackoverflow.com/a/518232/2809427\n",
    "def unicodeToAscii(s):\n",
    "    return ''.join(\n",
    "        c for c in unicodedata.normalize('NFD', s)\n",
    "        if unicodedata.category(c) != 'Mn'\n",
    "        and c in all_letters\n",
    "    )\n",
    "\n",
    "# Read a file and split into lines\n",
    "def readLines(filename):\n",
    "    lines = open(filename, encoding='utf-8').read().strip().split('\\n')\n",
    "    return [unicodeToAscii(line) for line in lines]\n",
    "\n",
    "# Build the category_lines dictionary, a list of lines per category\n",
    "category_lines = {}\n",
    "all_categories = []\n",
    "for filename in findFiles('data/names/*.txt'):\n",
    "    category = os.path.splitext(os.path.basename(filename))[0]\n",
    "    all_categories.append(category)\n",
    "    lines = readLines(filename)\n",
    "    category_lines[category] = lines\n",
    "\n",
    "n_categories = len(all_categories)\n",
    "\n",
    "if n_categories == 0:\n",
    "    raise RuntimeError('Data not found. Make sure that you downloaded data '\n",
    "        'from https://download.pytorch.org/tutorial/data.zip and extract it to '\n",
    "        'the current directory.')\n",
    "\n",
    "print('# categories:', n_categories, all_categories)\n",
    "print(unicodeToAscii(\"O'Néàl\"))"
   ]
  },
  {
   "attachments": {
    "image.png": {
     "image/png": "[encoded data removed]"
    }
   },
   "cell_type": "markdown",
   "metadata": {},
   "source": [
    "## Creating the Network\n",
    "\n",
    "This network extends [the last tutorial’s RNN](https://pytorch.org/tutorials/intermediate/char_rnn_classification_tutorial.html) with an extra argument for the category tensor, which is concatenated along with the others. The category tensor is a one-hot vector just like the letter input.\n",
    "\n",
    "We will interpret the output as the probability of the next letter. When sampling, the most likely output letter is used as the next input letter.\n",
    "\n",
    "I added a second linear layer ``o2o`` (after combining hidden and output) to give it more muscle to work with. There’s also a dropout layer, which [randomly zeros parts of its input](https://arxiv.org/abs/1207.0580) with a given probability (here 0.1) and is usually used to fuzz inputs to prevent overfitting. Here we’re using it towards the end of the network to purposely add some chaos and increase sampling variety.\n",
    "\n",
    "![image.png](attachment:image.png)"
   ]
  },
  {
   "cell_type": "code",
   "execution_count": 3,
   "metadata": {},
   "outputs": [],
   "source": [
    "import torch\n",
    "import torch.nn as nn\n",
    "\n",
    "class RNN(nn.Module):\n",
    "    def __init__(self, input_size, hidden_size, output_size):\n",
    "        super(RNN, self).__init__()\n",
    "        self.hidden_size = hidden_size\n",
    "\n",
    "        self.i2h = nn.Linear(n_categories + input_size + hidden_size, hidden_size)\n",
    "        self.i2o = nn.Linear(n_categories + input_size + hidden_size, output_size)\n",
    "        self.o2o = nn.Linear(hidden_size + output_size, output_size)\n",
    "        self.dropout = nn.Dropout(0.1)\n",
    "        self.softmax = nn.LogSoftmax(dim=1)\n",
    "\n",
    "    def forward(self, category, input, hidden):\n",
    "        input_combined = torch.cat((category, input, hidden), 1)\n",
    "        hidden = self.i2h(input_combined)\n",
    "        output = self.i2o(input_combined)\n",
    "        output_combined = torch.cat((hidden, output), 1)\n",
    "        output = self.o2o(output_combined)\n",
    "        output = self.dropout(output)\n",
    "        output = self.softmax(output)\n",
    "        return output, hidden\n",
    "\n",
    "    def initHidden(self):\n",
    "        return torch.zeros(1, self.hidden_size)"
   ]
  },
  {
   "cell_type": "markdown",
   "metadata": {},
   "source": [
    "## Training\n",
    "\n",
    "### Preparing for Training\n",
    "\n",
    "First of all, helper functions to get random pairs of (category, line):"
   ]
  },
  {
   "cell_type": "code",
   "execution_count": 4,
   "metadata": {},
   "outputs": [],
   "source": [
    "import random\n",
    "\n",
    "# Random item from a list\n",
    "def randomChoice(l):\n",
    "    return l[random.randint(0, len(l) - 1)]\n",
    "\n",
    "# Get a random category and random line from that category\n",
    "def randomTrainingPair():\n",
    "    category = randomChoice(all_categories)\n",
    "    line = randomChoice(category_lines[category])\n",
    "    return category, line"
   ]
  },
  {
   "attachments": {
    "image.png": {
     "image/png": "[encoded data removed]"
    }
   },
   "cell_type": "markdown",
   "metadata": {},
   "source": [
    "For each timestep (that is, for each letter in a training word) the inputs of the network will be ``(category, current letter, hidden state)`` and the outputs will be ``(next letter, next hidden state)``. So for each training set, we’ll need the category, a set of input letters, and a set of output/target letters.\n",
    "\n",
    "Since we are predicting the next letter from the current letter for each timestep, the letter pairs are groups of consecutive letters from the line - e.g. for ``\"ABCD<EOS>\"`` we would create (“A”, “B”), (“B”, “C”), (“C”, “D”), (“D”, “EOS”).\n",
    "\n",
    "![image.png](attachment:image.png)\n",
    "\n",
    "The category tensor is a [one-hot tensor](https://en.wikipedia.org/wiki/One-hot) of size ``<1 x n_categories>``. When training we feed it to the network at every timestep - this is a design choice, it could have been included as part of initial hidden state or some other strategy."
   ]
  },
  {
   "cell_type": "code",
   "execution_count": 5,
   "metadata": {},
   "outputs": [],
   "source": [
    "# One-hot vector for category\n",
    "def categoryTensor(category):\n",
    "    li = all_categories.index(category)\n",
    "    tensor = torch.zeros(1, n_categories)\n",
    "    tensor[0][li] = 1\n",
    "    return tensor\n",
    "\n",
    "# One-hot matrix of first to last letters (not including EOS) for input\n",
    "def inputTensor(line):\n",
    "    tensor = torch.zeros(len(line), 1, n_letters)\n",
    "    for li in range(len(line)):\n",
    "        letter = line[li]\n",
    "        tensor[li][0][all_letters.find(letter)] = 1\n",
    "    return tensor\n",
    "\n",
    "# LongTensor of second letter to end (EOS) for target\n",
    "def targetTensor(line):\n",
    "    letter_indexes = [all_letters.find(line[li]) for li in range(1, len(line))]\n",
    "    letter_indexes.append(n_letters - 1) # EOS\n",
    "    return torch.LongTensor(letter_indexes)"
   ]
  },
  {
   "cell_type": "markdown",
   "metadata": {},
   "source": [
    "For convenience during training we’ll make a ``randomTrainingExample`` function that fetches a random (category, line) pair and turns them into the required (category, input, target) tensors."
   ]
  },
  {
   "cell_type": "code",
   "execution_count": 6,
   "metadata": {},
   "outputs": [],
   "source": [
    "# Make category, input, and target tensors from a random category, line pair\n",
    "def randomTrainingExample():\n",
    "    category, line = randomTrainingPair()\n",
    "    category_tensor = categoryTensor(category)\n",
    "    input_line_tensor = inputTensor(line)\n",
    "    target_line_tensor = targetTensor(line)\n",
    "    return category_tensor, input_line_tensor, target_line_tensor"
   ]
  },
  {
   "cell_type": "markdown",
   "metadata": {},
   "source": [
    "### Training the Network\n",
    "\n",
    "In contrast to classification, where only the last output is used, we are making a prediction at every step, so we are calculating loss at every step.\n",
    "\n",
    "The magic of autograd allows you to simply sum these losses at each step and call backward at the end."
   ]
  },
  {
   "cell_type": "code",
   "execution_count": 13,
   "metadata": {},
   "outputs": [],
   "source": [
    "criterion = nn.NLLLoss()\n",
    "\n",
    "learning_rate = 0.0005\n",
    "\n",
    "def train(category_tensor, input_line_tensor, target_line_tensor):\n",
    "    target_line_tensor.unsqueeze_(-1)\n",
    "    hidden = rnn.initHidden()\n",
    "\n",
    "    rnn.zero_grad()\n",
    "\n",
    "    loss = 0\n",
    "\n",
    "    for i in range(input_line_tensor.size(0)):\n",
    "        output, hidden = rnn(category_tensor, input_line_tensor[i], hidden)\n",
    "        l = criterion(output, target_line_tensor[i])\n",
    "        loss += l\n",
    "\n",
    "    loss.backward()\n",
    "\n",
    "    for p in rnn.parameters():\n",
    "        p.data.add_(p.grad.data, alpha=-learning_rate)\n",
    "\n",
    "    return output, loss.item() / input_line_tensor.size(0)"
   ]
  },
  {
   "cell_type": "markdown",
   "metadata": {},
   "source": [
    "To keep track of how long training takes I am adding a ``timeSince(timestamp)`` function which returns a human readable string:"
   ]
  },
  {
   "cell_type": "code",
   "execution_count": 14,
   "metadata": {},
   "outputs": [],
   "source": [
    "import time\n",
    "import math\n",
    "\n",
    "def timeSince(since):\n",
    "    now = time.time()\n",
    "    s = now - since\n",
    "    m = math.floor(s / 60)\n",
    "    s -= m * 60\n",
    "    return '%dm %ds' % (m, s)"
   ]
  },
  {
   "cell_type": "markdown",
   "metadata": {},
   "source": [
    "Training is business as usual - call train a bunch of times and wait a few minutes, printing the current time and loss every ``print_every`` examples, and keeping store of an average loss per ``plot_every`` examples in ``all_losses`` for plotting later."
   ]
  },
  {
   "cell_type": "code",
   "execution_count": 15,
   "metadata": {},
   "outputs": [
    {
     "name": "stdout",
     "output_type": "stream",
     "text": [
      "1m 48s (5000 5%) 2.7273\n",
      "3m 35s (10000 10%) 2.7092\n",
      "5m 24s (15000 15%) 2.8864\n",
      "7m 11s (20000 20%) 3.2585\n",
      "8m 59s (25000 25%) 2.4837\n",
      "10m 47s (30000 30%) 2.1773\n",
      "12m 34s (35000 35%) 2.5678\n",
      "14m 21s (40000 40%) 2.6774\n",
      "16m 9s (45000 45%) 2.0928\n",
      "17m 57s (50000 50%) 2.0113\n",
      "19m 46s (55000 55%) 2.9710\n",
      "21m 34s (60000 60%) 1.6708\n",
      "23m 22s (65000 65%) 2.0993\n",
      "25m 10s (70000 70%) 2.4417\n",
      "26m 58s (75000 75%) 2.7933\n",
      "28m 45s (80000 80%) 2.3874\n",
      "30m 33s (85000 85%) 2.2777\n",
      "32m 20s (90000 90%) 2.0843\n",
      "34m 10s (95000 95%) 2.1098\n",
      "35m 57s (100000 100%) 2.7112\n"
     ]
    }
   ],
   "source": [
    "rnn = RNN(n_letters, 128, n_letters)\n",
    "\n",
    "n_iters = 100000\n",
    "print_every = 5000\n",
    "plot_every = 500\n",
    "all_losses = []\n",
    "total_loss = 0 # Reset every plot_every iters\n",
    "\n",
    "start = time.time()\n",
    "\n",
    "for iter in range(1, n_iters + 1):\n",
    "    output, loss = train(*randomTrainingExample())\n",
    "    total_loss += loss\n",
    "\n",
    "    if iter % print_every == 0:\n",
    "        print('%s (%d %d%%) %.4f' % (timeSince(start), iter, iter / n_iters * 100, loss))\n",
    "\n",
    "    if iter % plot_every == 0:\n",
    "        all_losses.append(total_loss / plot_every)\n",
    "        total_loss = 0"
   ]
  },
  {
   "cell_type": "markdown",
   "metadata": {},
   "source": [
    "### Plotting the Losses\n",
    "Plotting the historical loss from all_losses shows the network learning:"
   ]
  },
  {
   "cell_type": "code",
   "execution_count": 16,
   "metadata": {},
   "outputs": [
    {
     "data": {
      "text/plain": [
       "[<matplotlib.lines.Line2D at 0x7feb74ace450>]"
      ]
     },
     "execution_count": 16,
     "metadata": {},
     "output_type": "execute_result"
    },
    {
     "data": {
      "image/png": "[encoded data removed]",
      "text/plain": [
       "<Figure size 432x288 with 1 Axes>"
      ]
     },
     "metadata": {
      "needs_background": "light"
     },
     "output_type": "display_data"
    }
   ],
   "source": [
    "import matplotlib.pyplot as plt\n",
    "import matplotlib.ticker as ticker\n",
    "\n",
    "plt.figure()\n",
    "plt.plot(all_losses)"
   ]
  },
  {
   "cell_type": "markdown",
   "metadata": {},
   "source": [
    "### Sampling the Network\n",
    "To sample we give the network a letter and ask what the next one is, feed that in as the next letter, and repeat until the EOS token.\n",
    "\n",
    "* Create tensors for input category, starting letter, and empty hidden state\n",
    "* Create a string output_name with the starting letter\n",
    "* Up to a maximum output length,\n",
    "    * Feed the current letter to the network\n",
    "    * Get the next letter from highest output, and next hidden state\n",
    "    * If the letter is EOS, stop here\n",
    "    * If a regular letter, add to output_name and continue\n",
    "* Return the final name\n",
    "\n",
    "**Note**\n",
    "Rather than having to give it a starting letter, another strategy would have been to include a “start of string” token in training and have the network choose its own starting letter."
   ]
  },
  {
   "cell_type": "code",
   "execution_count": 17,
   "metadata": {},
   "outputs": [
    {
     "name": "stdout",
     "output_type": "stream",
     "text": [
      "Rakinov\n",
      "Uaniel\n",
      "Santovev\n",
      "Gerter\n",
      "Erenger\n",
      "Rour\n",
      "Serana\n",
      "Perana\n",
      "Allan\n",
      "Chan\n",
      "Han\n",
      "Iun\n"
     ]
    }
   ],
   "source": [
    "max_length = 20\n",
    "\n",
    "# Sample from a category and starting letter\n",
    "def sample(category, start_letter='A'):\n",
    "    with torch.no_grad():  # no need to track history in sampling\n",
    "        category_tensor = categoryTensor(category)\n",
    "        input = inputTensor(start_letter)\n",
    "        hidden = rnn.initHidden()\n",
    "\n",
    "        output_name = start_letter\n",
    "\n",
    "        for i in range(max_length):\n",
    "            output, hidden = rnn(category_tensor, input[0], hidden)\n",
    "            topv, topi = output.topk(1)\n",
    "            topi = topi[0][0]\n",
    "            if topi == n_letters - 1:\n",
    "                break\n",
    "            else:\n",
    "                letter = all_letters[topi]\n",
    "                output_name += letter\n",
    "            input = inputTensor(letter)\n",
    "\n",
    "        return output_name\n",
    "\n",
    "# Get multiple samples from one category and multiple starting letters\n",
    "def samples(category, start_letters='ABC'):\n",
    "    for start_letter in start_letters:\n",
    "        print(sample(category, start_letter))\n",
    "\n",
    "samples('Russian', 'RUS')\n",
    "\n",
    "samples('German', 'GER')\n",
    "\n",
    "samples('Spanish', 'SPA')\n",
    "\n",
    "samples('Chinese', 'CHI')"
   ]
  },
  {
   "cell_type": "markdown",
   "metadata": {},
   "source": [
    "## Exercises\n",
    "\n",
    "* Try with a different dataset of category -> line, for example:\n",
    "    * Fictional series -> Character name\n",
    "    * Part of speech -> Word\n",
    "    * Country -> City\n",
    "* Use a “start of sentence” token so that sampling can be done without choosing a start letter\n",
    "* Get better results with a bigger and/or better shaped network\n",
    "    * Try the nn.LSTM and nn.GRU layers\n",
    "    * Combine multiple of these RNNs as a higher level network"
   ]
  },
  {
   "cell_type": "code",
   "execution_count": null,
   "metadata": {},
   "outputs": [],
   "source": []
  }
 ],
 "metadata": {
  "kernelspec": {
   "display_name": "Python 3",
   "language": "python",
   "name": "python3"
  },
  "language_info": {
   "codemirror_mode": {
    "name": "ipython",
    "version": 3
   },
   "file_extension": ".py",
   "mimetype": "text/x-python",
   "name": "python",
   "nbconvert_exporter": "python",
   "pygments_lexer": "ipython3",
   "version": "3.7.7"
  }
 },
 "nbformat": 4,
 "nbformat_minor": 4
}
